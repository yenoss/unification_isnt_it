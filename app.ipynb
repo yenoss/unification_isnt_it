{
 "cells": [
  {
   "cell_type": "code",
   "execution_count": 1,
   "metadata": {},
   "outputs": [],
   "source": [
    "from nlpy.analysis import Analaysis\n",
    "from manager import DBManager\n",
    "from model import tweetModel\n",
    "from gensim.models import Word2Vec"
   ]
  },
  {
   "cell_type": "code",
   "execution_count": 2,
   "metadata": {},
   "outputs": [],
   "source": [
    "# 0.통일& 남북정상회담 관련 트위터 크롤링하기 2018-04-01-00:00:00\n",
    "# cd crawler\n",
    "# python3 tweetCrawler.py 남북정상회담 2018-04-01-00:00:00\n",
    "# python3 tweetCrawler.py 통일 2018-04-01-00:00:00\n",
    "\n",
    "\n",
    "# 1.크롤링한 트위터 정보에서 실제 남북 통일과 관련된 글만을 추려내기 위해(ex: 오늘 채색은 모든 색감을 통일해야겠어(통일과 관련없음.)) word2Vecotr로 통일 관련 단어들 추출해내기\n",
    "tweets = tweetModel.getAllTweets()\n",
    "\n",
    "# 실제 word2Vec에 쓰일 전체 voca\n",
    "tokenized_contents = []\n",
    "# 후에 negative한 vector값들판별하기 위한  id : tokenized_conetent값\n",
    "data_contents = []\n",
    "analysis = Analaysis()\n",
    "\n",
    "for item in tweets:\n",
    "    tweet_text = item[\"textt\"]\n",
    "    tokenized_tweet = analysis.getNounsList(tweet_text,1)\n",
    "    tokenized_contents.append(tokenized_tweet)\n",
    "    \n",
    "    _tmp ={}\n",
    "    _tmp[\"dataId\"] = item[\"data_id\"]    \n",
    "    _tmp[\"tokenizedTweet\"] = tokenized_tweet\n",
    "    data_contents.append(_tmp)\n",
    "\n",
    "\n"
   ]
  },
  {
   "cell_type": "code",
   "execution_count": 16,
   "metadata": {},
   "outputs": [],
   "source": [
    "# print(data_contents)"
   ]
  },
  {
   "cell_type": "code",
   "execution_count": 4,
   "metadata": {},
   "outputs": [],
   "source": [
    "model = Word2Vec(tokenized_contents, size=100, window=5, min_count=1, workers=4)\n",
    "# mostSimilar=> 코사인유사도를 측정해줌 => 백터간 거리\n",
    "# 두 벡터의 방향을 보는데 그방향이 완전이 같으면 1 다르면-1을 낸다. \n",
    "meaning_word = model.wv.most_similar(positive=[\"통일\"], topn=10033)\n",
    "\n",
    "# 다양한 정보들을 아래서 확인 가능.\n",
    "# words = list(model.wv.vocab)\n",
    "# print(words)\n",
    "# print(model['통일'])\n",
    "# model.save('model.bin')\n",
    "# load model\n",
    "# new_model = Word2Vec.load('model.bin')\n",
    "# print(new_model)\n",
    "\n",
    "# 방향이 많이 틀어진 것들은 긍정 부정 검색에서 제외한다..\n",
    "negative_word_arr =list(map(lambda x: x[0],filter(lambda x: x[1] <0, meaning_word)))\n",
    "positive_word_arr =list(map(lambda x: x[0],filter(lambda x: x[1] >0.5, meaning_word)))\n",
    "\n",
    "# print(negative_word_arr)\n",
    "negative_contents_ids = []\n",
    "for item in data_contents:\n",
    "    positive_score =0;\n",
    "    negative_score =0;\n",
    "    \n",
    "    for ele in item[\"tokenizedTweet\"]:\n",
    "        for ele2 in positive_word_arr:\n",
    "            if ele == ele2:\n",
    "                positive_score += 1;\n",
    "                        \n",
    "        for ele2 in negative_word_arr:\n",
    "            if ele == ele2:\n",
    "                negative_score +=1;\n",
    "                if positive_score==0:\n",
    "#                     print(positive_score)\n",
    "#                     print(negative_score)                        \n",
    "#                     print(item)                     \n",
    "                    negative_contents_ids.append(item[\"dataId\"]) \n",
    "                    \n",
    "#       통일과 관련이 전혀 없는 애들 -값도 없고 상위 값도 없다.\n",
    "        if positive_score == 0 and negative_score == 0:\n",
    "#             print(positive_score)\n",
    "#             print(negative_score)                        \n",
    "#             print(item)         \n",
    "            negative_contents_ids.append(item[\"dataId\"]) \n",
    "\n",
    "#  관련없거나 -값인 애들은 긍정 부정 판별에서 제외시킨다.\n",
    "for idd in negative_contents_ids:\n",
    "    tweetModel.setTweetValid(idd)\n"
   ]
  },
  {
   "cell_type": "code",
   "execution_count": 11,
   "metadata": {},
   "outputs": [],
   "source": [
    "# Google NaturalLanguage API전 단순 자체적인 Score를 이용한 Sentiment 판별\n",
    "# a = Analaysis()\n",
    "# valid_tweets = tweetModel.getAllValidTweets()\n",
    "# for item in valid_tweets:\n",
    "#     print(item[\"textt\"])\n",
    "#     nlpy_sentence = a.getNounsList(item[\"textt\"])\n",
    "#     print(a.checkSentiment(nlpy_sentence))"
   ]
  },
  {
   "cell_type": "code",
   "execution_count": null,
   "metadata": {},
   "outputs": [],
   "source": [
    "# Google NaturalLanguage 사용버전.\n",
    "# 필터링된 데이터(1289개)에대한 sentiment정보를 가져온다.\n",
    "#  8분 30 초정도 \n",
    "# magnitude: 정규화 되지않는 값. 텍스트가 길어질수록 값이 커질 수 있다.\n",
    "# score: -1 1 사이로 정규화된값.\n",
    "valid_tweets = tweetModel.getAllValidTweets()\n",
    "for item in valid_tweets:    \n",
    "    senti_result = analysis.checkSentimentByGoogle(item[\"textt\"])\n",
    "    tweetModel.setTweetSentiment(item[\"data_id\"],senti_result[\"score\"],senti_result[\"magnitude\"])\t\n"
   ]
  },
  {
   "cell_type": "code",
   "execution_count": 37,
   "metadata": {},
   "outputs": [
    {
     "name": "stdout",
     "output_type": "stream",
     "text": [
      "All Tweet Cnt: 1778\n",
      "filtered Tweet Cnt: 1289\n",
      "good : 530\n",
      "normal : 599\n",
      "bad : 166\n"
     ]
    },
    {
     "data": {
      "image/png": "[encoded data removed]",
      "text/plain": [
       "<Figure size 432x288 with 1 Axes>"
      ]
     },
     "metadata": {},
     "output_type": "display_data"
    },
    {
     "data": {
      "text/plain": [
       "<Figure size 432x288 with 0 Axes>"
      ]
     },
     "metadata": {},
     "output_type": "display_data"
    },
    {
     "data": {
      "image/png": "[encoded data removed]",
      "text/plain": [
       "<Figure size 432x288 with 1 Axes>"
      ]
     },
     "metadata": {},
     "output_type": "display_data"
    },
    {
     "data": {
      "text/plain": [
       "<Figure size 432x288 with 0 Axes>"
      ]
     },
     "metadata": {},
     "output_type": "display_data"
    }
   ],
   "source": [
    "# 결과를 추려서 그래프로 그려보자.\n",
    "import numpy as np\n",
    "import matplotlib.pyplot as plt\n",
    "\n",
    "bad_cnt = tweetModel.getSegmentBad()[0][\"bad\"]\n",
    "good_cnt = tweetModel.getSegmentGood()[0][\"good\"]\n",
    "normal_cnt = tweetModel.getSegmentNoraml()[0][\"normal\"]\n",
    "\n",
    "print(\"All Tweet Cnt: 1778\")\n",
    "print(\"filtered Tweet Cnt: 1289\")\n",
    "print(\"good : \"+str(good_cnt))\n",
    "print(\"normal : \"+str(normal_cnt))\n",
    "print(\"bad : \"+str(bad_cnt))\n",
    "\n",
    "y1_value = [bad_cnt,normal_cnt,good_cnt]\n",
    "x_name=['-1 ~ -0.25', '-0.25 ~ 0.25','0,25 ~ 1']\n",
    "n_groups = len(x_name)\n",
    "index = np.arange(n_groups)\n",
    "plt.bar(index, y1_value, tick_label=x_name, align='center')\n",
    "\n",
    "plt.xlabel('sentiment_score')\n",
    "plt.ylabel('tweet_cnt')\n",
    "plt.title('sentiment x tweetCnt')\n",
    "plt.xlim( -1, n_groups)\n",
    "plt.ylim( 0, 800)\n",
    "fig1 = plt.gcf()\n",
    "plt.show()\n",
    "plt.draw()\n",
    "fig1.savefig('result1.png', dpi=100)\n",
    "\n",
    "labels = 'bad', 'normal', 'good'\n",
    "sizes = [bad_cnt,normal_cnt,good_cnt]\n",
    "# explode = (0, 0.1, 0)  # only \"explode\" the 2nd slice (i.e. 'Hogs')\n",
    "\n",
    "fig1, ax1 = plt.subplots()\n",
    "ax1.pie(sizes, explode=explode, labels=labels, autopct='%1.1f%%',\n",
    "        shadow=True, startangle=90)\n",
    "ax1.axis('equal')  # Equal aspect ratio ensures that pie is drawn as a circle.\n",
    "fig1 = plt.gcf()\n",
    "plt.show()\n",
    "plt.draw()\n",
    "\n",
    "fig1.savefig('result2.png', dpi=100)\n",
    "\n",
    "\n",
    "\n"
   ]
  },
  {
   "cell_type": "code",
   "execution_count": null,
   "metadata": {},
   "outputs": [],
   "source": [
    "# !OPTION 통일관련 Word2Vector 모델링 된것을 그래프로 보기\n",
    "# PCA 차원축소 고차원벡터 =>처차원 \n",
    "from sklearn.decomposition import PCA\n",
    "from matplotlib import pyplot\n",
    "import matplotlib.font_manager as fm\n",
    "\n",
    "import matplotlib\n",
    "import matplotlib.font_manager\n",
    "\n",
    "# 한글처리를 위해 폰트 위치 찾기\n",
    "# [f.name for f in matplotlib.font_manager.fontManager.ttflist if 'Nanum' in f.name]\n",
    "# [(f.name, f.fname) for f in matplotlib.font_manager.fontManager.ttflist if 'Nanum' in f.name]\n",
    "\n",
    "# 찾은 폰트로 plot 한글표기 가능하도록 설정\n",
    "path = '/Library/Fonts/NanumBarunGothic-YetHangul.ttf'\n",
    "fontprop = fm.FontProperties(fname=path, size=0.5)\n",
    "\n",
    "X = model[model.wv.vocab]\n",
    "pca = PCA(n_components=2)\n",
    "result = pca.fit_transform(X)\n",
    "pyplot.scatter(result[:, 0], result[:, 1],1)\n",
    "\n",
    "words = list(model.wv.vocab)\n",
    "for i, word in enumerate(words):\n",
    "    pyplot.annotate(word, xy=(result[i, 0], result[i, 1]),fontproperties=fontprop)\n",
    "\n",
    "fig1 = pyplot.gcf()\n",
    "pyplot.show()\n",
    "pyplot.draw()\n",
    "fig1.savefig('uni_w2c.png', dpi=2000)\n",
    "    \n"
   ]
  },
  {
   "cell_type": "code",
   "execution_count": null,
   "metadata": {},
   "outputs": [],
   "source": []
  }
 ],
 "metadata": {
  "kernelspec": {
   "display_name": "uni",
   "language": "python",
   "name": "uni"
  },
  "language_info": {
   "codemirror_mode": {
    "name": "ipython",
    "version": 3
   },
   "file_extension": ".py",
   "mimetype": "text/x-python",
   "name": "python",
   "nbconvert_exporter": "python",
   "pygments_lexer": "ipython3",
   "version": "3.5.2"
  }
 },
 "nbformat": 4,
 "nbformat_minor": 2
}
